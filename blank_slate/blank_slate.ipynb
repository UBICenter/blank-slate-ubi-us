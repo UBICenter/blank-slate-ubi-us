{
  "nbformat": 4,
  "nbformat_minor": 0,
  "metadata": {
    "colab": {
      "name": "OpenFiscaUS-blankSlate.ipynb",
      "provenance": [],
      "collapsed_sections": []
    },
    "kernelspec": {
      "name": "python3",
      "display_name": "Python 3"
    },
    "language_info": {
      "name": "python"
    }
  },
  "cells": [
    {
      "cell_type": "code",
      "execution_count": null,
      "metadata": {
        "id": "v-FZwIiWh_kx",
        "colab": {
          "base_uri": "https://localhost:8080/",
          "height": 1000
        },
        "outputId": "30e7af9b-00e6-4c43-ed01-1eace610e163"
      },
      "outputs": [
        {
          "output_type": "stream",
          "name": "stdout",
          "text": [
            "Looking in indexes: https://pypi.org/simple, https://us-python.pkg.dev/colab-wheels/public/simple/\n",
            "Collecting openfisca-us\n",
            "  Downloading OpenFisca_US-0.66.1-py3-none-any.whl (679 kB)\n",
            "\u001b[K     |████████████████████████████████| 679 kB 14.6 MB/s \n",
            "\u001b[?25hRequirement already satisfied: pyyaml in /usr/local/lib/python3.7/dist-packages (from openfisca-us) (3.13)\n",
            "Collecting OpenFisca-Core[web-api]>=35.0.0\n",
            "  Downloading OpenFisca_Core-35.8.1-py3-none-any.whl (206 kB)\n",
            "\u001b[K     |████████████████████████████████| 206 kB 41.0 MB/s \n",
            "\u001b[?25hRequirement already satisfied: requests in /usr/local/lib/python3.7/dist-packages (from openfisca-us) (2.23.0)\n",
            "Collecting microdf-python\n",
            "  Downloading microdf_python-0.3.0-py3-none-any.whl (26 kB)\n",
            "Requirement already satisfied: h5py in /usr/local/lib/python3.7/dist-packages (from openfisca-us) (3.1.0)\n",
            "Requirement already satisfied: pathlib in /usr/local/lib/python3.7/dist-packages (from openfisca-us) (1.0.1)\n",
            "Requirement already satisfied: tables in /usr/local/lib/python3.7/dist-packages (from openfisca-us) (3.7.0)\n",
            "Requirement already satisfied: pandas in /usr/local/lib/python3.7/dist-packages (from openfisca-us) (1.3.5)\n",
            "Requirement already satisfied: tqdm in /usr/local/lib/python3.7/dist-packages (from openfisca-us) (4.64.0)\n",
            "Collecting OpenFisca-Tools<1.0.0,>=0.8.0\n",
            "  Downloading OpenFisca_Tools-0.10.4-py3-none-any.whl (25 kB)\n",
            "Collecting pytest-dependency\n",
            "  Downloading pytest-dependency-0.5.1.tar.gz (27 kB)\n",
            "Requirement already satisfied: pytest in /usr/local/lib/python3.7/dist-packages (from openfisca-us) (3.6.4)\n",
            "Collecting synthimpute\n",
            "  Downloading synthimpute-0.1-py3-none-any.whl (8.8 kB)\n",
            "Collecting sortedcontainers==2.2.2\n",
            "  Downloading sortedcontainers-2.2.2-py2.py3-none-any.whl (29 kB)\n",
            "Collecting pytest\n",
            "  Downloading pytest-5.4.3-py3-none-any.whl (248 kB)\n",
            "\u001b[K     |████████████████████████████████| 248 kB 61.9 MB/s \n",
            "\u001b[?25hRequirement already satisfied: numexpr<=3.0,>=2.7.0 in /usr/local/lib/python3.7/dist-packages (from OpenFisca-Core[web-api]>=35.0.0->openfisca-us) (2.8.1)\n",
            "Collecting nptyping==1.4.4\n",
            "  Downloading nptyping-1.4.4-py3-none-any.whl (31 kB)\n",
            "Collecting typing-extensions==3.10.0.2\n",
            "  Downloading typing_extensions-3.10.0.2-py3-none-any.whl (26 kB)\n",
            "Collecting dpath<3.0.0,>=1.5.0\n",
            "  Downloading dpath-2.0.6-py3-none-any.whl (15 kB)\n",
            "Collecting numpy<1.21,>=1.11\n",
            "  Downloading numpy-1.20.3-cp37-cp37m-manylinux_2_12_x86_64.manylinux2010_x86_64.whl (15.3 MB)\n",
            "\u001b[K     |████████████████████████████████| 15.3 MB 57.2 MB/s \n",
            "\u001b[?25hRequirement already satisfied: psutil<6.0.0,>=5.4.7 in /usr/local/lib/python3.7/dist-packages (from OpenFisca-Core[web-api]>=35.0.0->openfisca-us) (5.4.8)\n",
            "Collecting flask-cors==3.0.10\n",
            "  Downloading Flask_Cors-3.0.10-py2.py3-none-any.whl (14 kB)\n",
            "Requirement already satisfied: werkzeug<2.0.0,>=1.0.0 in /usr/local/lib/python3.7/dist-packages (from OpenFisca-Core[web-api]>=35.0.0->openfisca-us) (1.0.1)\n",
            "Requirement already satisfied: markupsafe==2.0.1 in /usr/local/lib/python3.7/dist-packages (from OpenFisca-Core[web-api]>=35.0.0->openfisca-us) (2.0.1)\n",
            "Requirement already satisfied: flask==1.1.4 in /usr/local/lib/python3.7/dist-packages (from OpenFisca-Core[web-api]>=35.0.0->openfisca-us) (1.1.4)\n",
            "Collecting gunicorn<21.0.0,>=20.0.0\n",
            "  Downloading gunicorn-20.1.0-py3-none-any.whl (79 kB)\n",
            "\u001b[K     |████████████████████████████████| 79 kB 8.3 MB/s \n",
            "\u001b[?25hRequirement already satisfied: Jinja2<3.0,>=2.10.1 in /usr/local/lib/python3.7/dist-packages (from flask==1.1.4->OpenFisca-Core[web-api]>=35.0.0->openfisca-us) (2.11.3)\n",
            "Requirement already satisfied: click<8.0,>=5.1 in /usr/local/lib/python3.7/dist-packages (from flask==1.1.4->OpenFisca-Core[web-api]>=35.0.0->openfisca-us) (7.1.2)\n",
            "Requirement already satisfied: itsdangerous<2.0,>=0.24 in /usr/local/lib/python3.7/dist-packages (from flask==1.1.4->OpenFisca-Core[web-api]>=35.0.0->openfisca-us) (1.1.0)\n",
            "Requirement already satisfied: Six in /usr/local/lib/python3.7/dist-packages (from flask-cors==3.0.10->OpenFisca-Core[web-api]>=35.0.0->openfisca-us) (1.15.0)\n",
            "Collecting typish>=1.7.0\n",
            "  Downloading typish-1.9.3-py3-none-any.whl (45 kB)\n",
            "\u001b[K     |████████████████████████████████| 45 kB 3.7 MB/s \n",
            "\u001b[?25hRequirement already satisfied: setuptools>=3.0 in /usr/local/lib/python3.7/dist-packages (from gunicorn<21.0.0,>=20.0.0->OpenFisca-Core[web-api]>=35.0.0->openfisca-us) (57.4.0)\n",
            "Requirement already satisfied: packaging in /usr/local/lib/python3.7/dist-packages (from numexpr<=3.0,>=2.7.0->OpenFisca-Core[web-api]>=35.0.0->openfisca-us) (21.3)\n",
            "Requirement already satisfied: google-cloud-storage in /usr/local/lib/python3.7/dist-packages (from OpenFisca-Tools<1.0.0,>=0.8.0->openfisca-us) (1.18.1)\n",
            "Requirement already satisfied: wheel in /usr/local/lib/python3.7/dist-packages (from OpenFisca-Tools<1.0.0,>=0.8.0->openfisca-us) (0.37.1)\n",
            "Requirement already satisfied: more-itertools>=4.0.0 in /usr/local/lib/python3.7/dist-packages (from pytest->openfisca-us) (8.13.0)\n",
            "Requirement already satisfied: wcwidth in /usr/local/lib/python3.7/dist-packages (from pytest->openfisca-us) (0.2.5)\n",
            "Requirement already satisfied: importlib-metadata>=0.12 in /usr/local/lib/python3.7/dist-packages (from pytest->openfisca-us) (4.11.3)\n",
            "Requirement already satisfied: py>=1.5.0 in /usr/local/lib/python3.7/dist-packages (from pytest->openfisca-us) (1.11.0)\n",
            "Collecting pluggy<1.0,>=0.12\n",
            "  Downloading pluggy-0.13.1-py2.py3-none-any.whl (18 kB)\n",
            "Requirement already satisfied: attrs>=17.4.0 in /usr/local/lib/python3.7/dist-packages (from pytest->openfisca-us) (21.4.0)\n",
            "Requirement already satisfied: zipp>=0.5 in /usr/local/lib/python3.7/dist-packages (from importlib-metadata>=0.12->pytest->openfisca-us) (3.8.0)\n",
            "Requirement already satisfied: google-resumable-media<0.5.0dev,>=0.3.1 in /usr/local/lib/python3.7/dist-packages (from google-cloud-storage->OpenFisca-Tools<1.0.0,>=0.8.0->openfisca-us) (0.4.1)\n",
            "Requirement already satisfied: google-cloud-core<2.0dev,>=1.0.0 in /usr/local/lib/python3.7/dist-packages (from google-cloud-storage->OpenFisca-Tools<1.0.0,>=0.8.0->openfisca-us) (1.0.3)\n",
            "Requirement already satisfied: google-auth>=1.2.0 in /usr/local/lib/python3.7/dist-packages (from google-cloud-storage->OpenFisca-Tools<1.0.0,>=0.8.0->openfisca-us) (1.35.0)\n",
            "Requirement already satisfied: pyasn1-modules>=0.2.1 in /usr/local/lib/python3.7/dist-packages (from google-auth>=1.2.0->google-cloud-storage->OpenFisca-Tools<1.0.0,>=0.8.0->openfisca-us) (0.2.8)\n",
            "Requirement already satisfied: cachetools<5.0,>=2.0.0 in /usr/local/lib/python3.7/dist-packages (from google-auth>=1.2.0->google-cloud-storage->OpenFisca-Tools<1.0.0,>=0.8.0->openfisca-us) (4.2.4)\n",
            "Requirement already satisfied: rsa<5,>=3.1.4 in /usr/local/lib/python3.7/dist-packages (from google-auth>=1.2.0->google-cloud-storage->OpenFisca-Tools<1.0.0,>=0.8.0->openfisca-us) (4.8)\n",
            "Requirement already satisfied: google-api-core<2.0.0dev,>=1.14.0 in /usr/local/lib/python3.7/dist-packages (from google-cloud-core<2.0dev,>=1.0.0->google-cloud-storage->OpenFisca-Tools<1.0.0,>=0.8.0->openfisca-us) (1.31.5)\n",
            "Requirement already satisfied: protobuf>=3.12.0 in /usr/local/lib/python3.7/dist-packages (from google-api-core<2.0.0dev,>=1.14.0->google-cloud-core<2.0dev,>=1.0.0->google-cloud-storage->OpenFisca-Tools<1.0.0,>=0.8.0->openfisca-us) (3.17.3)\n",
            "Requirement already satisfied: googleapis-common-protos<2.0dev,>=1.6.0 in /usr/local/lib/python3.7/dist-packages (from google-api-core<2.0.0dev,>=1.14.0->google-cloud-core<2.0dev,>=1.0.0->google-cloud-storage->OpenFisca-Tools<1.0.0,>=0.8.0->openfisca-us) (1.56.1)\n",
            "Requirement already satisfied: pytz in /usr/local/lib/python3.7/dist-packages (from google-api-core<2.0.0dev,>=1.14.0->google-cloud-core<2.0dev,>=1.0.0->google-cloud-storage->OpenFisca-Tools<1.0.0,>=0.8.0->openfisca-us) (2022.1)\n",
            "Requirement already satisfied: pyparsing!=3.0.5,>=2.0.2 in /usr/local/lib/python3.7/dist-packages (from packaging->numexpr<=3.0,>=2.7.0->OpenFisca-Core[web-api]>=35.0.0->openfisca-us) (3.0.9)\n",
            "Requirement already satisfied: pyasn1<0.5.0,>=0.4.6 in /usr/local/lib/python3.7/dist-packages (from pyasn1-modules>=0.2.1->google-auth>=1.2.0->google-cloud-storage->OpenFisca-Tools<1.0.0,>=0.8.0->openfisca-us) (0.4.8)\n",
            "Requirement already satisfied: idna<3,>=2.5 in /usr/local/lib/python3.7/dist-packages (from requests->openfisca-us) (2.10)\n",
            "Requirement already satisfied: urllib3!=1.25.0,!=1.25.1,<1.26,>=1.21.1 in /usr/local/lib/python3.7/dist-packages (from requests->openfisca-us) (1.24.3)\n",
            "Requirement already satisfied: chardet<4,>=3.0.2 in /usr/local/lib/python3.7/dist-packages (from requests->openfisca-us) (3.0.4)\n",
            "Requirement already satisfied: certifi>=2017.4.17 in /usr/local/lib/python3.7/dist-packages (from requests->openfisca-us) (2022.5.18.1)\n",
            "Requirement already satisfied: cached-property in /usr/local/lib/python3.7/dist-packages (from h5py->openfisca-us) (1.5.2)\n",
            "Requirement already satisfied: matplotlib in /usr/local/lib/python3.7/dist-packages (from microdf-python->openfisca-us) (3.2.2)\n",
            "Collecting matplotlib-label-lines\n",
            "  Downloading matplotlib_label_lines-0.5.1-py3-none-any.whl (12 kB)\n",
            "Requirement already satisfied: seaborn in /usr/local/lib/python3.7/dist-packages (from microdf-python->openfisca-us) (0.11.2)\n",
            "Requirement already satisfied: kiwisolver>=1.0.1 in /usr/local/lib/python3.7/dist-packages (from matplotlib->microdf-python->openfisca-us) (1.4.2)\n",
            "Requirement already satisfied: python-dateutil>=2.1 in /usr/local/lib/python3.7/dist-packages (from matplotlib->microdf-python->openfisca-us) (2.8.2)\n",
            "Requirement already satisfied: cycler>=0.10 in /usr/local/lib/python3.7/dist-packages (from matplotlib->microdf-python->openfisca-us) (0.11.0)\n",
            "Requirement already satisfied: scipy>=1.0 in /usr/local/lib/python3.7/dist-packages (from seaborn->microdf-python->openfisca-us) (1.4.1)\n",
            "Requirement already satisfied: scikit-learn in /usr/local/lib/python3.7/dist-packages (from synthimpute->openfisca-us) (1.0.2)\n",
            "Requirement already satisfied: statsmodels in /usr/local/lib/python3.7/dist-packages (from synthimpute->openfisca-us) (0.10.2)\n",
            "Requirement already satisfied: joblib>=0.11 in /usr/local/lib/python3.7/dist-packages (from scikit-learn->synthimpute->openfisca-us) (1.1.0)\n",
            "Requirement already satisfied: threadpoolctl>=2.0.0 in /usr/local/lib/python3.7/dist-packages (from scikit-learn->synthimpute->openfisca-us) (3.1.0)\n",
            "Requirement already satisfied: patsy>=0.4.0 in /usr/local/lib/python3.7/dist-packages (from statsmodels->synthimpute->openfisca-us) (0.5.2)\n",
            "Building wheels for collected packages: pytest-dependency\n",
            "  Building wheel for pytest-dependency (setup.py) ... \u001b[?25l\u001b[?25hdone\n",
            "  Created wheel for pytest-dependency: filename=pytest_dependency-0.5.1-py3-none-any.whl size=8218 sha256=33ac793cf9af2a8bd39090e10eadcdb7af66ea8317ed605421a13289762c113e\n",
            "  Stored in directory: /root/.cache/pip/wheels/7e/72/eb/c96a0b4b22f42d092914ba8fe7b4c639443ef02b529dbbefcf\n",
            "Successfully built pytest-dependency\n",
            "Installing collected packages: typing-extensions, numpy, typish, pluggy, sortedcontainers, pytest, nptyping, matplotlib-label-lines, dpath, OpenFisca-Core, microdf-python, gunicorn, flask-cors, synthimpute, pytest-dependency, OpenFisca-Tools, openfisca-us\n",
            "  Attempting uninstall: typing-extensions\n",
            "    Found existing installation: typing-extensions 4.2.0\n",
            "    Uninstalling typing-extensions-4.2.0:\n",
            "      Successfully uninstalled typing-extensions-4.2.0\n",
            "  Attempting uninstall: numpy\n",
            "    Found existing installation: numpy 1.21.6\n",
            "    Uninstalling numpy-1.21.6:\n",
            "      Successfully uninstalled numpy-1.21.6\n",
            "  Attempting uninstall: pluggy\n",
            "    Found existing installation: pluggy 0.7.1\n",
            "    Uninstalling pluggy-0.7.1:\n",
            "      Successfully uninstalled pluggy-0.7.1\n",
            "  Attempting uninstall: sortedcontainers\n",
            "    Found existing installation: sortedcontainers 2.4.0\n",
            "    Uninstalling sortedcontainers-2.4.0:\n",
            "      Successfully uninstalled sortedcontainers-2.4.0\n",
            "  Attempting uninstall: pytest\n",
            "    Found existing installation: pytest 3.6.4\n",
            "    Uninstalling pytest-3.6.4:\n",
            "      Successfully uninstalled pytest-3.6.4\n",
            "\u001b[31mERROR: pip's dependency resolver does not currently take into account all the packages that are installed. This behaviour is the source of the following dependency conflicts.\n",
            "tensorflow 2.8.0+zzzcolab20220506162203 requires tf-estimator-nightly==2.8.0.dev2021122109, which is not installed.\n",
            "xarray-einstats 0.2.2 requires numpy>=1.21, but you have numpy 1.20.3 which is incompatible.\n",
            "datascience 0.10.6 requires folium==0.2.1, but you have folium 0.8.3 which is incompatible.\n",
            "albumentations 0.1.12 requires imgaug<0.2.7,>=0.2.5, but you have imgaug 0.2.9 which is incompatible.\u001b[0m\n",
            "Successfully installed OpenFisca-Core-35.8.1 OpenFisca-Tools-0.10.4 dpath-2.0.6 flask-cors-3.0.10 gunicorn-20.1.0 matplotlib-label-lines-0.5.1 microdf-python-0.3.0 nptyping-1.4.4 numpy-1.20.3 openfisca-us-0.66.1 pluggy-0.13.1 pytest-5.4.3 pytest-dependency-0.5.1 sortedcontainers-2.2.2 synthimpute-0.1 typing-extensions-3.10.0.2 typish-1.9.3\n"
          ]
        },
        {
          "output_type": "display_data",
          "data": {
            "application/vnd.colab-display-data+json": {
              "pip_warning": {
                "packages": [
                  "numpy",
                  "typing_extensions"
                ]
              }
            }
          },
          "metadata": {}
        }
      ],
      "source": [
        "!pip install openfisca-us"
      ]
    },
    {
      "cell_type": "code",
      "source": [
        "from openfisca_us import Microsimulation\n",
        "\n",
        "sim = Microsimulation()\n",
        "\n",
        "sim.calc(\"spm_unit_net_income\")"
      ],
      "metadata": {
        "colab": {
          "base_uri": "https://localhost:8080/"
        },
        "id": "MUJcLnWYiKZ_",
        "outputId": "890e4509-a857-4054-9545-113533f0878d"
      },
      "execution_count": null,
      "outputs": [
        {
          "output_type": "stream",
          "name": "stderr",
          "text": [
            "/usr/local/lib/python3.7/dist-packages/openfisca_core/parameters/config.py:17: LibYAMLWarning: libyaml is not installed in your environment. This can make OpenFisca slower to start. Once you have installed libyaml, run 'pip uninstall pyyaml && pip install pyyaml --no-cache-dir' so that it is used in your Python environment.\n",
            "\n",
            "  warnings.warn(\" \".join(message), LibYAMLWarning)\n",
            "INFO:root:Generating raw CPS for year 2020.\n",
            "Downloaded ASEC: 100%|██████████| 169M/169M [00:03<00:00, 54.7MiB/s]\n"
          ]
        },
        {
          "output_type": "execute_result",
          "data": {
            "text/plain": [
              "          value       weight\n",
              "0       28327.0   687.710022\n",
              "1       76811.0  1516.949951\n",
              "2       15350.0  1483.560059\n",
              "3       54856.0   928.729980\n",
              "4       27050.0  1467.910034\n",
              "...         ...          ...\n",
              "65615  152253.0   470.359985\n",
              "65616   44606.0   312.350006\n",
              "65617   17282.0   514.109985\n",
              "65618   78821.0   516.250000\n",
              "65619   53152.0   386.369995\n",
              "\n",
              "[65620 rows x 2 columns]"
            ]
          },
          "metadata": {},
          "execution_count": 2
        }
      ]
    },
    {
      "cell_type": "code",
      "source": [
        "from openfisca_us.api import *\n",
        "from openfisca_us.model_api import *\n",
        "\n",
        "BENEFITS = [\n",
        "  \"snap\",\n",
        "  \"wic\",\n",
        "  \"ssi\",\n",
        "]\n",
        "\n",
        "class spm_unit_federal_tax(Variable):\n",
        "    value_type = float\n",
        "    entity = SPMUnit\n",
        "    label = \"Federal income tax\"\n",
        "    definition_period = YEAR\n",
        "    unit = USD\n",
        "\n",
        "    def formula(spm_unit, period, parameters):\n",
        "        total_income = add(spm_unit, period, [\"taxable_income\"])\n",
        "        return 0.4 * total_income\n",
        "\n",
        "class flat_tax_reform(Reform):\n",
        "  def apply(self):\n",
        "     self.update_variable(spm_unit_federal_tax)\n",
        "     for removed in BENEFITS: \n",
        "        self.neutralize_variable(removed)\n",
        "\n",
        "# By default, OpenFisca-US uses reported net income in order to exactly match poverty rates.\n",
        "# This reform defined on the next three lines disables that behaviour, by removing the reported \n",
        "# net income values. We apply this 'reform' to both the baseline and reformed simulations.\n",
        "\n",
        "class turn_on_benefits_simulation(Reform):\n",
        "  def apply(self):\n",
        "    self.neutralize_variable(\"spm_unit_net_income_reported\")\n",
        "\n",
        "baseline = Microsimulation(turn_on_benefits_simulation)\n",
        "reformed = Microsimulation((turn_on_benefits_simulation, flat_tax_reform))\n",
        "\n",
        "# revenue 2096.010505407311"
      ],
      "metadata": {
        "id": "cLHwKKoIpdNL",
        "colab": {
          "base_uri": "https://localhost:8080/"
        },
        "outputId": "1307c2fd-802d-4ab5-b0b1-d934ae41026c"
      },
      "execution_count": null,
      "outputs": [
        {
          "output_type": "stream",
          "name": "stderr",
          "text": [
            "/usr/local/lib/python3.7/dist-packages/openfisca_core/holders/holder.py:169: Warning: You cannot set a value for the variable spm_unit_net_income_reported, as it has been neutralized. The value you provided ([28327. 76811. 15350. ... 17282. 78821. 53152.]) will be ignored.\n",
            "  Warning\n"
          ]
        }
      ]
    },
    {
      "cell_type": "code",
      "source": [
        "reformed.calc(\"spm_unit_net_income\").sum() / 1e9 - baseline.calc(\"spm_unit_net_income\").sum() / 1e9"
      ],
      "metadata": {
        "colab": {
          "base_uri": "https://localhost:8080/"
        },
        "id": "zbR2dpxltON0",
        "outputId": "082ed36d-8c1f-46aa-bb2b-c28aa71afd12"
      },
      "execution_count": null,
      "outputs": [
        {
          "output_type": "execute_result",
          "data": {
            "text/plain": [
              "-2375.0273671257964"
            ]
          },
          "metadata": {},
          "execution_count": 17
        }
      ]
    }
  ]
}