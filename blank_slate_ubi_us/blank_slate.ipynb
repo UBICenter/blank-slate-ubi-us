{
 "cells": [
  {
   "cell_type": "code",
   "execution_count": 1,
   "metadata": {},
   "outputs": [],
   "source": [
    "from policyengine.countries import US\n",
    "from policyengine.utils.charts import plotly_json_to_fig\n",
    "from blank_slate_ubi_us.common import blank_slate_reform\n",
    "import plotly.graph_objects as go\n",
    "\n",
    "us = US()\n",
    "\n",
    "blank_slate = blank_slate_reform(\n",
    "    5_329,\n",
    "    4_592,\n",
    "    6_374,\n",
    "    9_276,\n",
    "    7_801,\n",
    ")\n",
    "\n",
    "charts = us.population_reform(blank_slate)"
   ]
  },
  {
   "cell_type": "code",
   "execution_count": 3,
   "metadata": {},
   "outputs": [
    {
     "data": {
      "text/plain": [
       "['net_cost',\n",
       " 'net_cost_numeric',\n",
       " 'poverty_change',\n",
       " 'winner_share',\n",
       " 'loser_share',\n",
       " 'gini_change',\n",
       " 'rel_income_decile_chart',\n",
       " 'avg_income_decile_chart',\n",
       " 'rel_wealth_decile_chart',\n",
       " 'avg_wealth_decile_chart',\n",
       " 'poverty_chart',\n",
       " 'deep_poverty_chart',\n",
       " 'waterfall_chart',\n",
       " 'intra_income_decile_chart',\n",
       " 'intra_wealth_decile_chart',\n",
       " 'inequality_chart']"
      ]
     },
     "execution_count": 3,
     "metadata": {},
     "output_type": "execute_result"
    }
   ],
   "source": [
    "list(charts.keys())"
   ]
  },
  {
   "cell_type": "code",
   "execution_count": 10,
   "metadata": {},
   "outputs": [
    {
     "data": {
      "application/vnd.plotly.v1+json": {
       "config": {
        "plotlyServerURL": "https://plot.ly"
       },
       "data": [
        {
         "alignmentgroup": "True",
         "customdata": [
          [
           "48% of all people gain more than 5% of their income"
          ]
         ],
         "hovertemplate": "%{customdata[0]}<extra></extra>",
         "legendgroup": "Gain more than 5%",
         "marker": {
          "color": "#558B2F",
          "pattern": {
           "shape": ""
          }
         },
         "name": "Gain more than 5%",
         "offsetgroup": "Gain more than 5%",
         "orientation": "h",
         "showlegend": false,
         "textposition": "auto",
         "type": "bar",
         "x": [
          0.47504142812573485
         ],
         "xaxis": "x",
         "y": [
          "All"
         ],
         "yaxis": "y"
        },
        {
         "alignmentgroup": "True",
         "customdata": [
          [
           "10% of all people gain less than 5% of their income"
          ]
         ],
         "hovertemplate": "%{customdata[0]}<extra></extra>",
         "legendgroup": "Gain less than 5%",
         "marker": {
          "color": "#C5E1A5",
          "pattern": {
           "shape": ""
          }
         },
         "name": "Gain less than 5%",
         "offsetgroup": "Gain less than 5%",
         "orientation": "h",
         "showlegend": false,
         "textposition": "auto",
         "type": "bar",
         "x": [
          0.1018846958361484
         ],
         "xaxis": "x",
         "y": [
          "All"
         ],
         "yaxis": "y"
        },
        {
         "alignmentgroup": "True",
         "customdata": [
          [
           "0% of all people experience no change"
          ]
         ],
         "hovertemplate": "%{customdata[0]}<extra></extra>",
         "legendgroup": "No change",
         "marker": {
          "color": "#F5F5F5",
          "pattern": {
           "shape": ""
          }
         },
         "name": "No change",
         "offsetgroup": "No change",
         "orientation": "h",
         "showlegend": false,
         "textposition": "auto",
         "type": "bar",
         "x": [
          0.004348843068186825
         ],
         "xaxis": "x",
         "y": [
          "All"
         ],
         "yaxis": "y"
        },
        {
         "alignmentgroup": "True",
         "customdata": [
          [
           "14% of all people lose less than 5% of their income"
          ]
         ],
         "hovertemplate": "%{customdata[0]}<extra></extra>",
         "legendgroup": "Lose less than 5%",
         "marker": {
          "color": "#BDBDBD",
          "pattern": {
           "shape": ""
          }
         },
         "name": "Lose less than 5%",
         "offsetgroup": "Lose less than 5%",
         "orientation": "h",
         "showlegend": false,
         "textposition": "auto",
         "type": "bar",
         "x": [
          0.1354102257128846
         ],
         "xaxis": "x",
         "y": [
          "All"
         ],
         "yaxis": "y"
        },
        {
         "alignmentgroup": "True",
         "customdata": [
          [
           "28% of all people lose more than 5% of their income"
          ]
         ],
         "hovertemplate": "%{customdata[0]}<extra></extra>",
         "legendgroup": "Lose more than 5%",
         "marker": {
          "color": "#616161",
          "pattern": {
           "shape": ""
          }
         },
         "name": "Lose more than 5%",
         "offsetgroup": "Lose more than 5%",
         "orientation": "h",
         "showlegend": false,
         "textposition": "auto",
         "type": "bar",
         "x": [
          0.28331480725704533
         ],
         "xaxis": "x",
         "y": [
          "All"
         ],
         "yaxis": "y"
        },
        {
         "alignmentgroup": "True",
         "customdata": [
          [
           "92% of people in the 1st income decile gain more than 5% of their income"
          ],
          [
           "92% of people in the 2nd income decile gain more than 5% of their income"
          ],
          [
           "90% of people in the 3rd income decile gain more than 5% of their income"
          ],
          [
           "84% of people in the 4th income decile gain more than 5% of their income"
          ],
          [
           "66% of people in the 5th income decile gain more than 5% of their income"
          ],
          [
           "32% of people in the 6th income decile gain more than 5% of their income"
          ],
          [
           "13% of people in the 7th income decile gain more than 5% of their income"
          ],
          [
           "4% of people in the 8th income decile gain more than 5% of their income"
          ],
          [
           "1% of people in the 9th income decile gain more than 5% of their income"
          ],
          [
           "0% of people in the 10th income decile gain more than 5% of their income"
          ]
         ],
         "hovertemplate": "%{customdata[0]}<extra></extra>",
         "legendgroup": "Gain more than 5%",
         "marker": {
          "color": "#558B2F",
          "pattern": {
           "shape": ""
          }
         },
         "name": "Gain more than 5%",
         "offsetgroup": "Gain more than 5%",
         "orientation": "h",
         "showlegend": true,
         "textposition": "auto",
         "type": "bar",
         "x": [
          0.9153204761043581,
          0.9199730957775041,
          0.9016732714039243,
          0.836273626211665,
          0.6610747471078998,
          0.3242268541708998,
          0.13206774445698324,
          0.04230778058352784,
          0.014581510839724683,
          0.0029458617675145243
         ],
         "xaxis": "x2",
         "y": [
          "1",
          "2",
          "3",
          "4",
          "5",
          "6",
          "7",
          "8",
          "9",
          "10"
         ],
         "yaxis": "y2"
        },
        {
         "alignmentgroup": "True",
         "customdata": [
          [
           "1% of people in the 1st income decile gain less than 5% of their income"
          ],
          [
           "4% of people in the 2nd income decile gain less than 5% of their income"
          ],
          [
           "5% of people in the 3rd income decile gain less than 5% of their income"
          ],
          [
           "9% of people in the 4th income decile gain less than 5% of their income"
          ],
          [
           "14% of people in the 5th income decile gain less than 5% of their income"
          ],
          [
           "32% of people in the 6th income decile gain less than 5% of their income"
          ],
          [
           "19% of people in the 7th income decile gain less than 5% of their income"
          ],
          [
           "12% of people in the 8th income decile gain less than 5% of their income"
          ],
          [
           "4% of people in the 9th income decile gain less than 5% of their income"
          ],
          [
           "2% of people in the 10th income decile gain less than 5% of their income"
          ]
         ],
         "hovertemplate": "%{customdata[0]}<extra></extra>",
         "legendgroup": "Gain less than 5%",
         "marker": {
          "color": "#C5E1A5",
          "pattern": {
           "shape": ""
          }
         },
         "name": "Gain less than 5%",
         "offsetgroup": "Gain less than 5%",
         "orientation": "h",
         "showlegend": true,
         "textposition": "auto",
         "type": "bar",
         "x": [
          0.012833637939178863,
          0.03914995110750361,
          0.053356066746426734,
          0.09366080784745194,
          0.13513938767876604,
          0.32272886330435896,
          0.191696518288203,
          0.11776920084819541,
          0.03586973398108263,
          0.016641618177638148
         ],
         "xaxis": "x2",
         "y": [
          "1",
          "2",
          "3",
          "4",
          "5",
          "6",
          "7",
          "8",
          "9",
          "10"
         ],
         "yaxis": "y2"
        },
        {
         "alignmentgroup": "True",
         "customdata": [
          [
           "0% of people in the 1st income decile experience no change"
          ],
          [
           "0% of people in the 2nd income decile experience no change"
          ],
          [
           "0% of people in the 3rd income decile experience no change"
          ],
          [
           "0% of people in the 4th income decile experience no change"
          ],
          [
           "0% of people in the 5th income decile experience no change"
          ],
          [
           "1% of people in the 6th income decile experience no change"
          ],
          [
           "1% of people in the 7th income decile experience no change"
          ],
          [
           "1% of people in the 8th income decile experience no change"
          ],
          [
           "0% of people in the 9th income decile experience no change"
          ],
          [
           "0% of people in the 10th income decile experience no change"
          ]
         ],
         "hovertemplate": "%{customdata[0]}<extra></extra>",
         "legendgroup": "No change",
         "marker": {
          "color": "#F5F5F5",
          "pattern": {
           "shape": ""
          }
         },
         "name": "No change",
         "offsetgroup": "No change",
         "orientation": "h",
         "showlegend": true,
         "textposition": "auto",
         "type": "bar",
         "x": [
          0.0002959760270123131,
          0.0024798218072869323,
          0.00037188321680189506,
          0.002899909465881366,
          0.004907240140790337,
          0.013106361676161894,
          0.009515505208159195,
          0.008240236550944047,
          0.001248366149329111,
          0.00042289707228747563
         ],
         "xaxis": "x2",
         "y": [
          "1",
          "2",
          "3",
          "4",
          "5",
          "6",
          "7",
          "8",
          "9",
          "10"
         ],
         "yaxis": "y2"
        },
        {
         "alignmentgroup": "True",
         "customdata": [
          [
           "1% of people in the 1st income decile lose less than 5% of their income"
          ],
          [
           "2% of people in the 2nd income decile lose less than 5% of their income"
          ],
          [
           "2% of people in the 3rd income decile lose less than 5% of their income"
          ],
          [
           "3% of people in the 4th income decile lose less than 5% of their income"
          ],
          [
           "13% of people in the 5th income decile lose less than 5% of their income"
          ],
          [
           "17% of people in the 6th income decile lose less than 5% of their income"
          ],
          [
           "36% of people in the 7th income decile lose less than 5% of their income"
          ],
          [
           "30% of people in the 8th income decile lose less than 5% of their income"
          ],
          [
           "20% of people in the 9th income decile lose less than 5% of their income"
          ],
          [
           "11% of people in the 10th income decile lose less than 5% of their income"
          ]
         ],
         "hovertemplate": "%{customdata[0]}<extra></extra>",
         "legendgroup": "Lose less than 5%",
         "marker": {
          "color": "#BDBDBD",
          "pattern": {
           "shape": ""
          }
         },
         "name": "Lose less than 5%",
         "offsetgroup": "Lose less than 5%",
         "orientation": "h",
         "showlegend": true,
         "textposition": "auto",
         "type": "bar",
         "x": [
          0.007580494996905773,
          0.019436791227305374,
          0.02052375325160292,
          0.031758618694833776,
          0.1269413303665345,
          0.16801763697325522,
          0.36337957386437814,
          0.30499657211707737,
          0.19976421977176287,
          0.11170144965327657
         ],
         "xaxis": "x2",
         "y": [
          "1",
          "2",
          "3",
          "4",
          "5",
          "6",
          "7",
          "8",
          "9",
          "10"
         ],
         "yaxis": "y2"
        },
        {
         "alignmentgroup": "True",
         "customdata": [
          [
           "6% of people in the 1st income decile lose more than 5% of their income"
          ],
          [
           "2% of people in the 2nd income decile lose more than 5% of their income"
          ],
          [
           "2% of people in the 3rd income decile lose more than 5% of their income"
          ],
          [
           "4% of people in the 4th income decile lose more than 5% of their income"
          ],
          [
           "7% of people in the 5th income decile lose more than 5% of their income"
          ],
          [
           "17% of people in the 6th income decile lose more than 5% of their income"
          ],
          [
           "30% of people in the 7th income decile lose more than 5% of their income"
          ],
          [
           "53% of people in the 8th income decile lose more than 5% of their income"
          ],
          [
           "75% of people in the 9th income decile lose more than 5% of their income"
          ],
          [
           "87% of people in the 10th income decile lose more than 5% of their income"
          ]
         ],
         "hovertemplate": "%{customdata[0]}<extra></extra>",
         "legendgroup": "Lose more than 5%",
         "marker": {
          "color": "#616161",
          "pattern": {
           "shape": ""
          }
         },
         "name": "Lose more than 5%",
         "offsetgroup": "Lose more than 5%",
         "orientation": "h",
         "showlegend": true,
         "textposition": "auto",
         "type": "bar",
         "x": [
          0.06396941493254499,
          0.018960340080399984,
          0.02407502538124417,
          0.0354070377801679,
          0.07193729470600928,
          0.17192028387532415,
          0.3033406581822764,
          0.5266862099002553,
          0.7485361692581007,
          0.8682881733292833
         ],
         "xaxis": "x2",
         "y": [
          "1",
          "2",
          "3",
          "4",
          "5",
          "6",
          "7",
          "8",
          "9",
          "10"
         ],
         "yaxis": "y2"
        }
       ],
       "layout": {
        "annotations": [
         {
          "font": {
           "size": 16
          },
          "showarrow": false,
          "text": "Population share",
          "x": 0.5,
          "xanchor": "center",
          "xref": "paper",
          "y": 0,
          "yanchor": "top",
          "yref": "paper",
          "yshift": -30
         },
         {
          "font": {
           "size": 16
          },
          "showarrow": false,
          "text": "Income decile",
          "textangle": -90,
          "x": 0,
          "xanchor": "right",
          "xref": "paper",
          "xshift": -40,
          "y": 0.5,
          "yanchor": "middle",
          "yref": "paper"
         }
        ],
        "barmode": "stack",
        "font": {
         "color": "Black",
         "family": "Ubuntu"
        },
        "hoverlabel": {
         "align": "right",
         "font": {
          "family": "Ubuntu"
         }
        },
        "paper_bgcolor": "white",
        "plot_bgcolor": "white",
        "template": {
         "data": {
          "bar": [
           {
            "error_x": {
             "color": "#2a3f5f"
            },
            "error_y": {
             "color": "#2a3f5f"
            },
            "marker": {
             "line": {
              "color": "#E5ECF6",
              "width": 0.5
             },
             "pattern": {
              "fillmode": "overlay",
              "size": 10,
              "solidity": 0.2
             }
            },
            "type": "bar"
           }
          ],
          "barpolar": [
           {
            "marker": {
             "line": {
              "color": "#E5ECF6",
              "width": 0.5
             },
             "pattern": {
              "fillmode": "overlay",
              "size": 10,
              "solidity": 0.2
             }
            },
            "type": "barpolar"
           }
          ],
          "carpet": [
           {
            "aaxis": {
             "endlinecolor": "#2a3f5f",
             "gridcolor": "white",
             "linecolor": "white",
             "minorgridcolor": "white",
             "startlinecolor": "#2a3f5f"
            },
            "baxis": {
             "endlinecolor": "#2a3f5f",
             "gridcolor": "white",
             "linecolor": "white",
             "minorgridcolor": "white",
             "startlinecolor": "#2a3f5f"
            },
            "type": "carpet"
           }
          ],
          "choropleth": [
           {
            "colorbar": {
             "outlinewidth": 0,
             "ticks": ""
            },
            "type": "choropleth"
           }
          ],
          "contour": [
           {
            "colorbar": {
             "outlinewidth": 0,
             "ticks": ""
            },
            "colorscale": [
             [
              0,
              "#0d0887"
             ],
             [
              0.1111111111111111,
              "#46039f"
             ],
             [
              0.2222222222222222,
              "#7201a8"
             ],
             [
              0.3333333333333333,
              "#9c179e"
             ],
             [
              0.4444444444444444,
              "#bd3786"
             ],
             [
              0.5555555555555556,
              "#d8576b"
             ],
             [
              0.6666666666666666,
              "#ed7953"
             ],
             [
              0.7777777777777778,
              "#fb9f3a"
             ],
             [
              0.8888888888888888,
              "#fdca26"
             ],
             [
              1,
              "#f0f921"
             ]
            ],
            "type": "contour"
           }
          ],
          "contourcarpet": [
           {
            "colorbar": {
             "outlinewidth": 0,
             "ticks": ""
            },
            "type": "contourcarpet"
           }
          ],
          "heatmap": [
           {
            "colorbar": {
             "outlinewidth": 0,
             "ticks": ""
            },
            "colorscale": [
             [
              0,
              "#0d0887"
             ],
             [
              0.1111111111111111,
              "#46039f"
             ],
             [
              0.2222222222222222,
              "#7201a8"
             ],
             [
              0.3333333333333333,
              "#9c179e"
             ],
             [
              0.4444444444444444,
              "#bd3786"
             ],
             [
              0.5555555555555556,
              "#d8576b"
             ],
             [
              0.6666666666666666,
              "#ed7953"
             ],
             [
              0.7777777777777778,
              "#fb9f3a"
             ],
             [
              0.8888888888888888,
              "#fdca26"
             ],
             [
              1,
              "#f0f921"
             ]
            ],
            "type": "heatmap"
           }
          ],
          "heatmapgl": [
           {
            "colorbar": {
             "outlinewidth": 0,
             "ticks": ""
            },
            "colorscale": [
             [
              0,
              "#0d0887"
             ],
             [
              0.1111111111111111,
              "#46039f"
             ],
             [
              0.2222222222222222,
              "#7201a8"
             ],
             [
              0.3333333333333333,
              "#9c179e"
             ],
             [
              0.4444444444444444,
              "#bd3786"
             ],
             [
              0.5555555555555556,
              "#d8576b"
             ],
             [
              0.6666666666666666,
              "#ed7953"
             ],
             [
              0.7777777777777778,
              "#fb9f3a"
             ],
             [
              0.8888888888888888,
              "#fdca26"
             ],
             [
              1,
              "#f0f921"
             ]
            ],
            "type": "heatmapgl"
           }
          ],
          "histogram": [
           {
            "marker": {
             "pattern": {
              "fillmode": "overlay",
              "size": 10,
              "solidity": 0.2
             }
            },
            "type": "histogram"
           }
          ],
          "histogram2d": [
           {
            "colorbar": {
             "outlinewidth": 0,
             "ticks": ""
            },
            "colorscale": [
             [
              0,
              "#0d0887"
             ],
             [
              0.1111111111111111,
              "#46039f"
             ],
             [
              0.2222222222222222,
              "#7201a8"
             ],
             [
              0.3333333333333333,
              "#9c179e"
             ],
             [
              0.4444444444444444,
              "#bd3786"
             ],
             [
              0.5555555555555556,
              "#d8576b"
             ],
             [
              0.6666666666666666,
              "#ed7953"
             ],
             [
              0.7777777777777778,
              "#fb9f3a"
             ],
             [
              0.8888888888888888,
              "#fdca26"
             ],
             [
              1,
              "#f0f921"
             ]
            ],
            "type": "histogram2d"
           }
          ],
          "histogram2dcontour": [
           {
            "colorbar": {
             "outlinewidth": 0,
             "ticks": ""
            },
            "colorscale": [
             [
              0,
              "#0d0887"
             ],
             [
              0.1111111111111111,
              "#46039f"
             ],
             [
              0.2222222222222222,
              "#7201a8"
             ],
             [
              0.3333333333333333,
              "#9c179e"
             ],
             [
              0.4444444444444444,
              "#bd3786"
             ],
             [
              0.5555555555555556,
              "#d8576b"
             ],
             [
              0.6666666666666666,
              "#ed7953"
             ],
             [
              0.7777777777777778,
              "#fb9f3a"
             ],
             [
              0.8888888888888888,
              "#fdca26"
             ],
             [
              1,
              "#f0f921"
             ]
            ],
            "type": "histogram2dcontour"
           }
          ],
          "mesh3d": [
           {
            "colorbar": {
             "outlinewidth": 0,
             "ticks": ""
            },
            "type": "mesh3d"
           }
          ],
          "parcoords": [
           {
            "line": {
             "colorbar": {
              "outlinewidth": 0,
              "ticks": ""
             }
            },
            "type": "parcoords"
           }
          ],
          "pie": [
           {
            "automargin": true,
            "type": "pie"
           }
          ],
          "scatter": [
           {
            "marker": {
             "colorbar": {
              "outlinewidth": 0,
              "ticks": ""
             }
            },
            "type": "scatter"
           }
          ],
          "scatter3d": [
           {
            "line": {
             "colorbar": {
              "outlinewidth": 0,
              "ticks": ""
             }
            },
            "marker": {
             "colorbar": {
              "outlinewidth": 0,
              "ticks": ""
             }
            },
            "type": "scatter3d"
           }
          ],
          "scattercarpet": [
           {
            "marker": {
             "colorbar": {
              "outlinewidth": 0,
              "ticks": ""
             }
            },
            "type": "scattercarpet"
           }
          ],
          "scattergeo": [
           {
            "marker": {
             "colorbar": {
              "outlinewidth": 0,
              "ticks": ""
             }
            },
            "type": "scattergeo"
           }
          ],
          "scattergl": [
           {
            "marker": {
             "colorbar": {
              "outlinewidth": 0,
              "ticks": ""
             }
            },
            "type": "scattergl"
           }
          ],
          "scattermapbox": [
           {
            "marker": {
             "colorbar": {
              "outlinewidth": 0,
              "ticks": ""
             }
            },
            "type": "scattermapbox"
           }
          ],
          "scatterpolar": [
           {
            "marker": {
             "colorbar": {
              "outlinewidth": 0,
              "ticks": ""
             }
            },
            "type": "scatterpolar"
           }
          ],
          "scatterpolargl": [
           {
            "marker": {
             "colorbar": {
              "outlinewidth": 0,
              "ticks": ""
             }
            },
            "type": "scatterpolargl"
           }
          ],
          "scatterternary": [
           {
            "marker": {
             "colorbar": {
              "outlinewidth": 0,
              "ticks": ""
             }
            },
            "type": "scatterternary"
           }
          ],
          "surface": [
           {
            "colorbar": {
             "outlinewidth": 0,
             "ticks": ""
            },
            "colorscale": [
             [
              0,
              "#0d0887"
             ],
             [
              0.1111111111111111,
              "#46039f"
             ],
             [
              0.2222222222222222,
              "#7201a8"
             ],
             [
              0.3333333333333333,
              "#9c179e"
             ],
             [
              0.4444444444444444,
              "#bd3786"
             ],
             [
              0.5555555555555556,
              "#d8576b"
             ],
             [
              0.6666666666666666,
              "#ed7953"
             ],
             [
              0.7777777777777778,
              "#fb9f3a"
             ],
             [
              0.8888888888888888,
              "#fdca26"
             ],
             [
              1,
              "#f0f921"
             ]
            ],
            "type": "surface"
           }
          ],
          "table": [
           {
            "cells": {
             "fill": {
              "color": "#EBF0F8"
             },
             "line": {
              "color": "white"
             }
            },
            "header": {
             "fill": {
              "color": "#C8D4E3"
             },
             "line": {
              "color": "white"
             }
            },
            "type": "table"
           }
          ]
         },
         "layout": {
          "annotationdefaults": {
           "arrowcolor": "#2a3f5f",
           "arrowhead": 0,
           "arrowwidth": 1
          },
          "autotypenumbers": "strict",
          "coloraxis": {
           "colorbar": {
            "outlinewidth": 0,
            "ticks": ""
           }
          },
          "colorscale": {
           "diverging": [
            [
             0,
             "#8e0152"
            ],
            [
             0.1,
             "#c51b7d"
            ],
            [
             0.2,
             "#de77ae"
            ],
            [
             0.3,
             "#f1b6da"
            ],
            [
             0.4,
             "#fde0ef"
            ],
            [
             0.5,
             "#f7f7f7"
            ],
            [
             0.6,
             "#e6f5d0"
            ],
            [
             0.7,
             "#b8e186"
            ],
            [
             0.8,
             "#7fbc41"
            ],
            [
             0.9,
             "#4d9221"
            ],
            [
             1,
             "#276419"
            ]
           ],
           "sequential": [
            [
             0,
             "#0d0887"
            ],
            [
             0.1111111111111111,
             "#46039f"
            ],
            [
             0.2222222222222222,
             "#7201a8"
            ],
            [
             0.3333333333333333,
             "#9c179e"
            ],
            [
             0.4444444444444444,
             "#bd3786"
            ],
            [
             0.5555555555555556,
             "#d8576b"
            ],
            [
             0.6666666666666666,
             "#ed7953"
            ],
            [
             0.7777777777777778,
             "#fb9f3a"
            ],
            [
             0.8888888888888888,
             "#fdca26"
            ],
            [
             1,
             "#f0f921"
            ]
           ],
           "sequentialminus": [
            [
             0,
             "#0d0887"
            ],
            [
             0.1111111111111111,
             "#46039f"
            ],
            [
             0.2222222222222222,
             "#7201a8"
            ],
            [
             0.3333333333333333,
             "#9c179e"
            ],
            [
             0.4444444444444444,
             "#bd3786"
            ],
            [
             0.5555555555555556,
             "#d8576b"
            ],
            [
             0.6666666666666666,
             "#ed7953"
            ],
            [
             0.7777777777777778,
             "#fb9f3a"
            ],
            [
             0.8888888888888888,
             "#fdca26"
            ],
            [
             1,
             "#f0f921"
            ]
           ]
          },
          "colorway": [
           "#636efa",
           "#EF553B",
           "#00cc96",
           "#ab63fa",
           "#FFA15A",
           "#19d3f3",
           "#FF6692",
           "#B6E880",
           "#FF97FF",
           "#FECB52"
          ],
          "font": {
           "color": "#2a3f5f"
          },
          "geo": {
           "bgcolor": "white",
           "lakecolor": "white",
           "landcolor": "#E5ECF6",
           "showlakes": true,
           "showland": true,
           "subunitcolor": "white"
          },
          "hoverlabel": {
           "align": "left"
          },
          "hovermode": "closest",
          "mapbox": {
           "style": "light"
          },
          "paper_bgcolor": "white",
          "plot_bgcolor": "#E5ECF6",
          "polar": {
           "angularaxis": {
            "gridcolor": "white",
            "linecolor": "white",
            "ticks": ""
           },
           "bgcolor": "#E5ECF6",
           "radialaxis": {
            "gridcolor": "white",
            "linecolor": "white",
            "ticks": ""
           }
          },
          "scene": {
           "xaxis": {
            "backgroundcolor": "#E5ECF6",
            "gridcolor": "white",
            "gridwidth": 2,
            "linecolor": "white",
            "showbackground": true,
            "ticks": "",
            "zerolinecolor": "white"
           },
           "yaxis": {
            "backgroundcolor": "#E5ECF6",
            "gridcolor": "white",
            "gridwidth": 2,
            "linecolor": "white",
            "showbackground": true,
            "ticks": "",
            "zerolinecolor": "white"
           },
           "zaxis": {
            "backgroundcolor": "#E5ECF6",
            "gridcolor": "white",
            "gridwidth": 2,
            "linecolor": "white",
            "showbackground": true,
            "ticks": "",
            "zerolinecolor": "white"
           }
          },
          "shapedefaults": {
           "line": {
            "color": "#2a3f5f"
           }
          },
          "ternary": {
           "aaxis": {
            "gridcolor": "white",
            "linecolor": "white",
            "ticks": ""
           },
           "baxis": {
            "gridcolor": "white",
            "linecolor": "white",
            "ticks": ""
           },
           "bgcolor": "#E5ECF6",
           "caxis": {
            "gridcolor": "white",
            "linecolor": "white",
            "ticks": ""
           }
          },
          "title": {
           "x": 0.05
          },
          "xaxis": {
           "automargin": true,
           "gridcolor": "white",
           "linecolor": "white",
           "ticks": "",
           "title": {
            "standoff": 15
           },
           "zerolinecolor": "white",
           "zerolinewidth": 2
          },
          "yaxis": {
           "automargin": true,
           "gridcolor": "white",
           "linecolor": "white",
           "ticks": "",
           "title": {
            "standoff": 15
           },
           "zerolinecolor": "white",
           "zerolinewidth": 2
          }
         }
        },
        "title": {
         "font": {
          "size": 20
         },
         "text": "Distribution of gains and losses by income decile"
        },
        "xaxis": {
         "anchor": "y",
         "domain": [
          0,
          1
         ],
         "matches": "x2",
         "showgrid": false,
         "showticklabels": false,
         "tickfont": {
          "size": 14
         },
         "tickformat": ",.0%",
         "title": {
          "font": {
           "color": "black",
           "size": 16
          }
         }
        },
        "xaxis2": {
         "anchor": "y2",
         "domain": [
          0,
          1
         ],
         "showgrid": false,
         "tickfont": {
          "size": 14
         },
         "tickformat": ",.0%",
         "title": {
          "font": {
           "color": "black",
           "size": 16
          }
         }
        },
        "yaxis": {
         "anchor": "x",
         "domain": [
          0.9136363636363636,
          1
         ],
         "tickfont": {
          "size": 14
         },
         "title": {
          "font": {
           "color": "black",
           "size": 16
          }
         }
        },
        "yaxis2": {
         "anchor": "x2",
         "domain": [
          0,
          0.8636363636363635
         ],
         "tickfont": {
          "size": 14
         },
         "title": {
          "font": {
           "color": "black",
           "size": 16
          }
         }
        }
       }
      }
     },
     "metadata": {},
     "output_type": "display_data"
    }
   ],
   "source": [
    "plotly_json_to_fig(charts[\"intra_income_decile_chart\"])"
   ]
  }
 ],
 "metadata": {
  "interpreter": {
   "hash": "8dfc7b25af29ff50af05ad7ef5344155df419318e539ca710572e6dd4f9023a3"
  },
  "kernelspec": {
   "display_name": "Python 3.7.11 ('policyengine')",
   "language": "python",
   "name": "python3"
  },
  "language_info": {
   "codemirror_mode": {
    "name": "ipython",
    "version": 3
   },
   "file_extension": ".py",
   "mimetype": "text/x-python",
   "name": "python",
   "nbconvert_exporter": "python",
   "pygments_lexer": "ipython3",
   "version": "3.7.11"
  },
  "orig_nbformat": 4
 },
 "nbformat": 4,
 "nbformat_minor": 2
}
