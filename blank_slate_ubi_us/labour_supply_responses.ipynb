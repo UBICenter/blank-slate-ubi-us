{
 "cells": [
  {
   "cell_type": "code",
   "execution_count": 1,
   "metadata": {},
   "outputs": [],
   "source": [
    "from policyengine.countries import US\n",
    "from blank_slate_ubi_us.common import blank_slate_ubi, prepare_simulation\n",
    "\n",
    "us = US()\n",
    "\n",
    "blank_slate = blank_slate_ubi()\n",
    "blank_slate_baseline = prepare_simulation()\n",
    "blank_slate_reform = dict(reform=blank_slate, baseline_reform=blank_slate_baseline)\n",
    "\n",
    "baseline, reformed = us._get_microsimulations(blank_slate_reform)"
   ]
  },
  {
   "cell_type": "code",
   "execution_count": 2,
   "metadata": {},
   "outputs": [],
   "source": [
    "INCOME_ELASTICITY = 0.05\n",
    "SUBSTITUTION_ELASTICITY = 0.25\n",
    "\n",
    "baseline_mtr = 1 - baseline.deriv(\"spm_unit_net_income\", \"employment_income\").values"
   ]
  },
  {
   "cell_type": "code",
   "execution_count": 4,
   "metadata": {},
   "outputs": [],
   "source": [
    "INCOME_ELASTICITY = 0.05\n",
    "SUBSTITUTION_ELASTICITY = 0.25\n",
    "\n",
    "reformed_mtr = 1 - reformed.deriv(\"spm_unit_net_income\", \"employment_income\").values"
   ]
  },
  {
   "cell_type": "code",
   "execution_count": 5,
   "metadata": {},
   "outputs": [],
   "source": [
    "baseline_net_income = baseline.calc(\"spm_unit_net_income\", map_to=\"person\").values\n",
    "reformed_net_income = reformed.calc(\"spm_unit_net_income\", map_to=\"person\").values"
   ]
  },
  {
   "cell_type": "code",
   "execution_count": 6,
   "metadata": {},
   "outputs": [],
   "source": [
    "wage_rel_change = (1 - reformed_mtr) / (1 - baseline_mtr) - 1\n",
    "income_rel_change = reformed_net_income  / baseline_net_income - 1"
   ]
  },
  {
   "cell_type": "code",
   "execution_count": 28,
   "metadata": {},
   "outputs": [],
   "source": [
    "earnings = baseline.calc(\"employment_income\").values"
   ]
  },
  {
   "cell_type": "code",
   "execution_count": 31,
   "metadata": {},
   "outputs": [],
   "source": [
    "import pandas as pd\n",
    "\n",
    "df = pd.DataFrame(dict(\n",
    "    earnings=earnings,\n",
    "    wage_rel_change=wage_rel_change,\n",
    "    income_rel_change=income_rel_change,\n",
    "    substitution_effect=earnings * wage_rel_change * SUBSTITUTION_ELASTICITY,\n",
    "    income_effect=earnings * income_rel_change * INCOME_ELASTICITY,\n",
    "))\n",
    "df[\"adjusted_earnings\"] = df.earnings + df.substitution_effect + df.income_effect\n",
    "\n",
    "_, reformed_with_lsr = us._get_microsimulations(blank_slate_reform)\n",
    "reformed_with_lsr.set_input(\"employment_income\", 2022, df.adjusted_earnings.values)"
   ]
  },
  {
   "cell_type": "code",
   "execution_count": 32,
   "metadata": {},
   "outputs": [
    {
     "data": {
      "text/plain": [
       "0.9299412191867952"
      ]
     },
     "execution_count": 32,
     "metadata": {},
     "output_type": "execute_result"
    }
   ],
   "source": [
    "reformed_with_lsr.calc(\"employment_income\").sum() / baseline.calc(\"employment_income\").sum()"
   ]
  },
  {
   "cell_type": "code",
   "execution_count": 33,
   "metadata": {},
   "outputs": [
    {
     "data": {
      "text/plain": [
       "0.9978620386001026"
      ]
     },
     "execution_count": 33,
     "metadata": {},
     "output_type": "execute_result"
    }
   ],
   "source": [
    "_, reformed_with_income_effect_lsr = us._get_microsimulations(blank_slate_reform)\n",
    "reformed_with_income_effect_lsr.set_input(\"employment_income\", 2022, (df.earnings + df.income_effect).values)\n",
    "reformed_with_income_effect_lsr.calc(\"employment_income\").sum() / baseline.calc(\"employment_income\").sum()"
   ]
  },
  {
   "cell_type": "code",
   "execution_count": 48,
   "metadata": {},
   "outputs": [
    {
     "data": {
      "text/plain": [
       "-1398.854658979875"
      ]
     },
     "execution_count": 48,
     "metadata": {},
     "output_type": "execute_result"
    }
   ],
   "source": [
    "(\n",
    "    reformed_with_lsr.calc(\"spm_unit_taxes\").sum() - reformed_with_lsr.calc(\"\")\n",
    "    - baseline.calc(\"spm_unit_taxes\").sum()\n",
    ")/1e9"
   ]
  },
  {
   "cell_type": "code",
   "execution_count": 62,
   "metadata": {},
   "outputs": [
    {
     "data": {
      "text/plain": [
       "-858.7191245551344"
      ]
     },
     "execution_count": 62,
     "metadata": {},
     "output_type": "execute_result"
    }
   ],
   "source": [
    "(\n",
    "    reformed_with_lsr.calc(\"spm_unit_taxes\").sum() / 1e9\n",
    "    - baseline.calc(\"spm_unit_taxes\").sum() / 1e9\n",
    ") - (\n",
    "    reformed_with_lsr.calc(\"spm_unit_benefits\").sum() / 1e9\n",
    "    - baseline.calc(\"spm_unit_benefits\").sum() / 1e9\n",
    ")"
   ]
  }
 ],
 "metadata": {
  "kernelspec": {
   "display_name": "Python 3.7.11 ('policyengine')",
   "language": "python",
   "name": "python3"
  },
  "language_info": {
   "codemirror_mode": {
    "name": "ipython",
    "version": 3
   },
   "file_extension": ".py",
   "mimetype": "text/x-python",
   "name": "python",
   "nbconvert_exporter": "python",
   "pygments_lexer": "ipython3",
   "version": "3.7.11"
  },
  "orig_nbformat": 4,
  "vscode": {
   "interpreter": {
    "hash": "8dfc7b25af29ff50af05ad7ef5344155df419318e539ca710572e6dd4f9023a3"
   }
  }
 },
 "nbformat": 4,
 "nbformat_minor": 2
}
